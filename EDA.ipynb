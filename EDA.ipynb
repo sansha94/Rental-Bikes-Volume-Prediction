{
 "cells": [
  {
   "cell_type": "markdown",
   "id": "a4821041-03a6-49bb-bbcb-d1d555e7e82a",
   "metadata": {},
   "source": [
    "# Importing the libraries"
   ]
  },
  {
   "cell_type": "code",
   "execution_count": 1,
   "id": "c3ebe5ce-f81f-4787-a9ab-7cc427be2676",
   "metadata": {},
   "outputs": [],
   "source": [
    "import pandas as pd\n",
    "import numpy as np\n",
    "\n",
    "import seaborn as sns\n",
    "import matplotlib.pyplot as plt"
   ]
  },
  {
   "cell_type": "markdown",
   "id": "88fde377-9ca9-4c85-a695-bcd0960d0a10",
   "metadata": {},
   "source": [
    "# 1. Reading the dataset"
   ]
  },
  {
   "cell_type": "code",
   "execution_count": 2,
   "id": "14971bde-9981-463b-a59a-7c92b0d95d8b",
   "metadata": {},
   "outputs": [],
   "source": [
    "df_train = pd.read_csv(\"data/train.csv\")\n",
    "df_test = pd.read_csv(\"data/test.csv\")"
   ]
  },
  {
   "cell_type": "code",
   "execution_count": 3,
   "id": "a1a3b8cf-8072-4352-a10d-97dc81b828bb",
   "metadata": {},
   "outputs": [
    {
     "data": {
      "text/html": [
       "<div>\n",
       "<style scoped>\n",
       "    .dataframe tbody tr th:only-of-type {\n",
       "        vertical-align: middle;\n",
       "    }\n",
       "\n",
       "    .dataframe tbody tr th {\n",
       "        vertical-align: top;\n",
       "    }\n",
       "\n",
       "    .dataframe thead th {\n",
       "        text-align: right;\n",
       "    }\n",
       "</style>\n",
       "<table border=\"1\" class=\"dataframe\">\n",
       "  <thead>\n",
       "    <tr style=\"text-align: right;\">\n",
       "      <th></th>\n",
       "      <th>Date</th>\n",
       "      <th>Weather</th>\n",
       "      <th>Year</th>\n",
       "      <th>Month</th>\n",
       "      <th>Hour</th>\n",
       "      <th>Holiday</th>\n",
       "      <th>Normalized_Temperature</th>\n",
       "      <th>Normalized_Feeling_Temperature</th>\n",
       "      <th>Normalized_Humidity</th>\n",
       "      <th>Windspeed</th>\n",
       "      <th>Count_of_Casual_Users</th>\n",
       "      <th>Count_of_Registered_Users</th>\n",
       "      <th>Count_of_Rented_Bikes</th>\n",
       "    </tr>\n",
       "  </thead>\n",
       "  <tbody>\n",
       "    <tr>\n",
       "      <th>0</th>\n",
       "      <td>17/12/13</td>\n",
       "      <td>Clear, Few clouds, Partly cloudy</td>\n",
       "      <td>2013</td>\n",
       "      <td>12</td>\n",
       "      <td>14</td>\n",
       "      <td>0</td>\n",
       "      <td>0.281667</td>\n",
       "      <td>0.269267</td>\n",
       "      <td>0.453371</td>\n",
       "      <td>0.363818</td>\n",
       "      <td>30</td>\n",
       "      <td>207</td>\n",
       "      <td>237</td>\n",
       "    </tr>\n",
       "    <tr>\n",
       "      <th>1</th>\n",
       "      <td>28/02/14</td>\n",
       "      <td>Clear, Few clouds, Partly cloudy</td>\n",
       "      <td>2014</td>\n",
       "      <td>2</td>\n",
       "      <td>21</td>\n",
       "      <td>0</td>\n",
       "      <td>0.350000</td>\n",
       "      <td>0.353500</td>\n",
       "      <td>0.461124</td>\n",
       "      <td>0.110118</td>\n",
       "      <td>10</td>\n",
       "      <td>179</td>\n",
       "      <td>189</td>\n",
       "    </tr>\n",
       "  </tbody>\n",
       "</table>\n",
       "</div>"
      ],
      "text/plain": [
       "       Date                           Weather  Year  Month  Hour  Holiday  \\\n",
       "0  17/12/13  Clear, Few clouds, Partly cloudy  2013     12    14        0   \n",
       "1  28/02/14  Clear, Few clouds, Partly cloudy  2014      2    21        0   \n",
       "\n",
       "   Normalized_Temperature  Normalized_Feeling_Temperature  \\\n",
       "0                0.281667                        0.269267   \n",
       "1                0.350000                        0.353500   \n",
       "\n",
       "   Normalized_Humidity  Windspeed  Count_of_Casual_Users  \\\n",
       "0             0.453371   0.363818                     30   \n",
       "1             0.461124   0.110118                     10   \n",
       "\n",
       "   Count_of_Registered_Users  Count_of_Rented_Bikes  \n",
       "0                        207                    237  \n",
       "1                        179                    189  "
      ]
     },
     "execution_count": 3,
     "metadata": {},
     "output_type": "execute_result"
    }
   ],
   "source": [
    "df_train.head(2)"
   ]
  },
  {
   "cell_type": "code",
   "execution_count": 4,
   "id": "2f5f049d-e8c7-43e5-9797-cc0c992aa4af",
   "metadata": {},
   "outputs": [
    {
     "data": {
      "text/html": [
       "<div>\n",
       "<style scoped>\n",
       "    .dataframe tbody tr th:only-of-type {\n",
       "        vertical-align: middle;\n",
       "    }\n",
       "\n",
       "    .dataframe tbody tr th {\n",
       "        vertical-align: top;\n",
       "    }\n",
       "\n",
       "    .dataframe thead th {\n",
       "        text-align: right;\n",
       "    }\n",
       "</style>\n",
       "<table border=\"1\" class=\"dataframe\">\n",
       "  <thead>\n",
       "    <tr style=\"text-align: right;\">\n",
       "      <th></th>\n",
       "      <th>Date</th>\n",
       "      <th>Weather</th>\n",
       "      <th>Year</th>\n",
       "      <th>Month</th>\n",
       "      <th>Hour</th>\n",
       "      <th>Holiday</th>\n",
       "      <th>Normalized_Temperature</th>\n",
       "      <th>Normalized_Feeling_Temperature</th>\n",
       "      <th>Normalized_Humidity</th>\n",
       "      <th>Windspeed</th>\n",
       "    </tr>\n",
       "  </thead>\n",
       "  <tbody>\n",
       "    <tr>\n",
       "      <th>0</th>\n",
       "      <td>08/08/14</td>\n",
       "      <td>Mist + Cloudy, Mist + Broken clouds, Mist + Fe...</td>\n",
       "      <td>2014</td>\n",
       "      <td>8</td>\n",
       "      <td>14</td>\n",
       "      <td>0</td>\n",
       "      <td>0.80250</td>\n",
       "      <td>0.742956</td>\n",
       "      <td>0.522247</td>\n",
       "      <td>0.257071</td>\n",
       "    </tr>\n",
       "    <tr>\n",
       "      <th>1</th>\n",
       "      <td>27/07/14</td>\n",
       "      <td>Clear, Few clouds, Partly cloudy</td>\n",
       "      <td>2014</td>\n",
       "      <td>7</td>\n",
       "      <td>20</td>\n",
       "      <td>0</td>\n",
       "      <td>0.78125</td>\n",
       "      <td>0.749067</td>\n",
       "      <td>0.593371</td>\n",
       "      <td>0.105624</td>\n",
       "    </tr>\n",
       "  </tbody>\n",
       "</table>\n",
       "</div>"
      ],
      "text/plain": [
       "       Date                                            Weather  Year  Month  \\\n",
       "0  08/08/14  Mist + Cloudy, Mist + Broken clouds, Mist + Fe...  2014      8   \n",
       "1  27/07/14                   Clear, Few clouds, Partly cloudy  2014      7   \n",
       "\n",
       "   Hour  Holiday  Normalized_Temperature  Normalized_Feeling_Temperature  \\\n",
       "0    14        0                 0.80250                        0.742956   \n",
       "1    20        0                 0.78125                        0.749067   \n",
       "\n",
       "   Normalized_Humidity  Windspeed  \n",
       "0             0.522247   0.257071  \n",
       "1             0.593371   0.105624  "
      ]
     },
     "execution_count": 4,
     "metadata": {},
     "output_type": "execute_result"
    }
   ],
   "source": [
    "df_test.head(2)"
   ]
  },
  {
   "cell_type": "markdown",
   "id": "d3e5b869-eec7-40ca-b01e-1c97e2e7e4cc",
   "metadata": {},
   "source": [
    "# 2. Data Cleaning"
   ]
  },
  {
   "cell_type": "code",
   "execution_count": 5,
   "id": "c332aa46-7f40-4a32-92a8-525bd66373e8",
   "metadata": {},
   "outputs": [],
   "source": [
    "def prepare_datetime(\n",
    "    df: pd.DataFrame\n",
    "):\n",
    "    # Preparing the datetime column\n",
    "    df[\"datetime\"] = df[\"Date\"] + \" \" + df[\"Hour\"].astype(str) + \":00\"\n",
    "    # Changing the data type to datetime\n",
    "    df[\"datetime\"] = pd.to_datetime(df[\"datetime\"], format=\"%d/%m/%y %H:%M\")\n",
    "    df[\"Date\"] = pd.to_datetime(df[\"Date\"], format=\"%d/%m/%y\")\n",
    "\n",
    "    return df"
   ]
  },
  {
   "cell_type": "code",
   "execution_count": 6,
   "id": "5dc5fbc1-3e0c-41cf-b577-daecbee46754",
   "metadata": {},
   "outputs": [],
   "source": [
    "# Getting datetime column for train and test data\n",
    "df_train = prepare_datetime(df_train)\n",
    "df_test = prepare_datetime(df_test)"
   ]
  },
  {
   "cell_type": "code",
   "execution_count": 7,
   "id": "39d30e7d-ba6a-49ba-92bd-eec4e272ee3e",
   "metadata": {},
   "outputs": [],
   "source": [
    "# Selecting a subset of columns\n",
    "train_cols = [\"Date\", \"datetime\"] + [\"Weather\"] + df_train.columns.tolist()[5:-1]\n",
    "test_cols = [\"Date\", \"datetime\"] + [\"Weather\"] + df_test.columns.tolist()[5:-1]\n",
    "\n",
    "df_train_sub = df_train[train_cols]\n",
    "df_test_sub = df_test[test_cols]"
   ]
  },
  {
   "cell_type": "code",
   "execution_count": 8,
   "id": "70518e70-c89f-442e-9c37-ef41d1a25c89",
   "metadata": {},
   "outputs": [],
   "source": [
    "# Sorting the data by datetime\n",
    "df_train_srtd = df_train_sub.sort_values(by=[\"datetime\"]).reset_index(drop=True)\n",
    "df_test_srtd = df_test_sub.sort_values(by=[\"datetime\"]).reset_index(drop=True)"
   ]
  },
  {
   "cell_type": "code",
   "execution_count": 9,
   "id": "3cbe1f03-80b7-4701-9251-4d85a533e689",
   "metadata": {},
   "outputs": [
    {
     "data": {
      "text/html": [
       "<div>\n",
       "<style scoped>\n",
       "    .dataframe tbody tr th:only-of-type {\n",
       "        vertical-align: middle;\n",
       "    }\n",
       "\n",
       "    .dataframe tbody tr th {\n",
       "        vertical-align: top;\n",
       "    }\n",
       "\n",
       "    .dataframe thead th {\n",
       "        text-align: right;\n",
       "    }\n",
       "</style>\n",
       "<table border=\"1\" class=\"dataframe\">\n",
       "  <thead>\n",
       "    <tr style=\"text-align: right;\">\n",
       "      <th></th>\n",
       "      <th>Date</th>\n",
       "      <th>datetime</th>\n",
       "      <th>Weather</th>\n",
       "      <th>Holiday</th>\n",
       "      <th>Normalized_Temperature</th>\n",
       "      <th>Normalized_Feeling_Temperature</th>\n",
       "      <th>Normalized_Humidity</th>\n",
       "      <th>Windspeed</th>\n",
       "      <th>Count_of_Casual_Users</th>\n",
       "      <th>Count_of_Registered_Users</th>\n",
       "      <th>Count_of_Rented_Bikes</th>\n",
       "    </tr>\n",
       "  </thead>\n",
       "  <tbody>\n",
       "    <tr>\n",
       "      <th>0</th>\n",
       "      <td>2013-01-01</td>\n",
       "      <td>2013-01-01 00:00:00</td>\n",
       "      <td>Clear, Few clouds, Partly cloudy</td>\n",
       "      <td>0</td>\n",
       "      <td>0.242083</td>\n",
       "      <td>0.297900</td>\n",
       "      <td>0.815618</td>\n",
       "      <td>0.000337</td>\n",
       "      <td>3</td>\n",
       "      <td>13</td>\n",
       "      <td>16</td>\n",
       "    </tr>\n",
       "    <tr>\n",
       "      <th>1</th>\n",
       "      <td>2013-01-01</td>\n",
       "      <td>2013-01-01 01:00:00</td>\n",
       "      <td>Clear, Few clouds, Partly cloudy</td>\n",
       "      <td>0</td>\n",
       "      <td>0.222083</td>\n",
       "      <td>0.281589</td>\n",
       "      <td>0.807865</td>\n",
       "      <td>0.011236</td>\n",
       "      <td>8</td>\n",
       "      <td>32</td>\n",
       "      <td>40</td>\n",
       "    </tr>\n",
       "    <tr>\n",
       "      <th>2</th>\n",
       "      <td>2013-01-01</td>\n",
       "      <td>2013-01-01 03:00:00</td>\n",
       "      <td>Clear, Few clouds, Partly cloudy</td>\n",
       "      <td>0</td>\n",
       "      <td>0.248750</td>\n",
       "      <td>0.288456</td>\n",
       "      <td>0.752247</td>\n",
       "      <td>0.010112</td>\n",
       "      <td>3</td>\n",
       "      <td>11</td>\n",
       "      <td>14</td>\n",
       "    </tr>\n",
       "    <tr>\n",
       "      <th>3</th>\n",
       "      <td>2013-01-01</td>\n",
       "      <td>2013-01-01 04:00:00</td>\n",
       "      <td>Clear, Few clouds, Partly cloudy</td>\n",
       "      <td>0</td>\n",
       "      <td>0.246250</td>\n",
       "      <td>0.303456</td>\n",
       "      <td>0.758989</td>\n",
       "      <td>0.001124</td>\n",
       "      <td>0</td>\n",
       "      <td>2</td>\n",
       "      <td>2</td>\n",
       "    </tr>\n",
       "    <tr>\n",
       "      <th>4</th>\n",
       "      <td>2013-01-01</td>\n",
       "      <td>2013-01-01 05:00:00</td>\n",
       "      <td>Mist + Cloudy, Mist + Broken clouds, Mist + Fe...</td>\n",
       "      <td>0</td>\n",
       "      <td>0.246250</td>\n",
       "      <td>0.265933</td>\n",
       "      <td>0.757865</td>\n",
       "      <td>0.098589</td>\n",
       "      <td>0</td>\n",
       "      <td>2</td>\n",
       "      <td>2</td>\n",
       "    </tr>\n",
       "  </tbody>\n",
       "</table>\n",
       "</div>"
      ],
      "text/plain": [
       "        Date            datetime  \\\n",
       "0 2013-01-01 2013-01-01 00:00:00   \n",
       "1 2013-01-01 2013-01-01 01:00:00   \n",
       "2 2013-01-01 2013-01-01 03:00:00   \n",
       "3 2013-01-01 2013-01-01 04:00:00   \n",
       "4 2013-01-01 2013-01-01 05:00:00   \n",
       "\n",
       "                                             Weather  Holiday  \\\n",
       "0                   Clear, Few clouds, Partly cloudy        0   \n",
       "1                   Clear, Few clouds, Partly cloudy        0   \n",
       "2                   Clear, Few clouds, Partly cloudy        0   \n",
       "3                   Clear, Few clouds, Partly cloudy        0   \n",
       "4  Mist + Cloudy, Mist + Broken clouds, Mist + Fe...        0   \n",
       "\n",
       "   Normalized_Temperature  Normalized_Feeling_Temperature  \\\n",
       "0                0.242083                        0.297900   \n",
       "1                0.222083                        0.281589   \n",
       "2                0.248750                        0.288456   \n",
       "3                0.246250                        0.303456   \n",
       "4                0.246250                        0.265933   \n",
       "\n",
       "   Normalized_Humidity  Windspeed  Count_of_Casual_Users  \\\n",
       "0             0.815618   0.000337                      3   \n",
       "1             0.807865   0.011236                      8   \n",
       "2             0.752247   0.010112                      3   \n",
       "3             0.758989   0.001124                      0   \n",
       "4             0.757865   0.098589                      0   \n",
       "\n",
       "   Count_of_Registered_Users  Count_of_Rented_Bikes  \n",
       "0                         13                     16  \n",
       "1                         32                     40  \n",
       "2                         11                     14  \n",
       "3                          2                      2  \n",
       "4                          2                      2  "
      ]
     },
     "execution_count": 9,
     "metadata": {},
     "output_type": "execute_result"
    }
   ],
   "source": [
    "df_train_srtd.head()"
   ]
  },
  {
   "cell_type": "code",
   "execution_count": 10,
   "id": "17f34eca-66f6-465f-871f-216a313d37e3",
   "metadata": {},
   "outputs": [
    {
     "data": {
      "text/html": [
       "<div>\n",
       "<style scoped>\n",
       "    .dataframe tbody tr th:only-of-type {\n",
       "        vertical-align: middle;\n",
       "    }\n",
       "\n",
       "    .dataframe tbody tr th {\n",
       "        vertical-align: top;\n",
       "    }\n",
       "\n",
       "    .dataframe thead th {\n",
       "        text-align: right;\n",
       "    }\n",
       "</style>\n",
       "<table border=\"1\" class=\"dataframe\">\n",
       "  <thead>\n",
       "    <tr style=\"text-align: right;\">\n",
       "      <th></th>\n",
       "      <th>Date</th>\n",
       "      <th>datetime</th>\n",
       "      <th>Weather</th>\n",
       "      <th>Holiday</th>\n",
       "      <th>Normalized_Temperature</th>\n",
       "      <th>Normalized_Feeling_Temperature</th>\n",
       "      <th>Normalized_Humidity</th>\n",
       "      <th>Windspeed</th>\n",
       "    </tr>\n",
       "  </thead>\n",
       "  <tbody>\n",
       "    <tr>\n",
       "      <th>0</th>\n",
       "      <td>2013-01-01</td>\n",
       "      <td>2013-01-01 02:00:00</td>\n",
       "      <td>Clear, Few clouds, Partly cloudy</td>\n",
       "      <td>0</td>\n",
       "      <td>0.232500</td>\n",
       "      <td>0.280478</td>\n",
       "      <td>0.806742</td>\n",
       "      <td>0.011236</td>\n",
       "    </tr>\n",
       "    <tr>\n",
       "      <th>1</th>\n",
       "      <td>2013-01-01</td>\n",
       "      <td>2013-01-01 08:00:00</td>\n",
       "      <td>Clear, Few clouds, Partly cloudy</td>\n",
       "      <td>0</td>\n",
       "      <td>0.246667</td>\n",
       "      <td>0.290122</td>\n",
       "      <td>0.751124</td>\n",
       "      <td>0.001124</td>\n",
       "    </tr>\n",
       "    <tr>\n",
       "      <th>2</th>\n",
       "      <td>2013-01-01</td>\n",
       "      <td>2013-01-01 14:00:00</td>\n",
       "      <td>Mist + Cloudy, Mist + Broken clouds, Mist + Fe...</td>\n",
       "      <td>0</td>\n",
       "      <td>0.467083</td>\n",
       "      <td>0.468389</td>\n",
       "      <td>0.721124</td>\n",
       "      <td>0.284724</td>\n",
       "    </tr>\n",
       "    <tr>\n",
       "      <th>3</th>\n",
       "      <td>2013-01-01</td>\n",
       "      <td>2013-01-01 17:00:00</td>\n",
       "      <td>Mist + Cloudy, Mist + Broken clouds, Mist + Fe...</td>\n",
       "      <td>0</td>\n",
       "      <td>0.443750</td>\n",
       "      <td>0.456067</td>\n",
       "      <td>0.826742</td>\n",
       "      <td>0.288094</td>\n",
       "    </tr>\n",
       "    <tr>\n",
       "      <th>4</th>\n",
       "      <td>2013-01-01</td>\n",
       "      <td>2013-01-01 18:00:00</td>\n",
       "      <td>Light Snow, Light Rain + Thunderstorm + Scatte...</td>\n",
       "      <td>0</td>\n",
       "      <td>0.432083</td>\n",
       "      <td>0.436422</td>\n",
       "      <td>0.891236</td>\n",
       "      <td>0.262689</td>\n",
       "    </tr>\n",
       "  </tbody>\n",
       "</table>\n",
       "</div>"
      ],
      "text/plain": [
       "        Date            datetime  \\\n",
       "0 2013-01-01 2013-01-01 02:00:00   \n",
       "1 2013-01-01 2013-01-01 08:00:00   \n",
       "2 2013-01-01 2013-01-01 14:00:00   \n",
       "3 2013-01-01 2013-01-01 17:00:00   \n",
       "4 2013-01-01 2013-01-01 18:00:00   \n",
       "\n",
       "                                             Weather  Holiday  \\\n",
       "0                   Clear, Few clouds, Partly cloudy        0   \n",
       "1                   Clear, Few clouds, Partly cloudy        0   \n",
       "2  Mist + Cloudy, Mist + Broken clouds, Mist + Fe...        0   \n",
       "3  Mist + Cloudy, Mist + Broken clouds, Mist + Fe...        0   \n",
       "4  Light Snow, Light Rain + Thunderstorm + Scatte...        0   \n",
       "\n",
       "   Normalized_Temperature  Normalized_Feeling_Temperature  \\\n",
       "0                0.232500                        0.280478   \n",
       "1                0.246667                        0.290122   \n",
       "2                0.467083                        0.468389   \n",
       "3                0.443750                        0.456067   \n",
       "4                0.432083                        0.436422   \n",
       "\n",
       "   Normalized_Humidity  Windspeed  \n",
       "0             0.806742   0.011236  \n",
       "1             0.751124   0.001124  \n",
       "2             0.721124   0.284724  \n",
       "3             0.826742   0.288094  \n",
       "4             0.891236   0.262689  "
      ]
     },
     "execution_count": 10,
     "metadata": {},
     "output_type": "execute_result"
    }
   ],
   "source": [
    "df_test_srtd.head()"
   ]
  },
  {
   "cell_type": "code",
   "execution_count": 11,
   "id": "0244df64-c42d-4450-8e4f-49f81a17430c",
   "metadata": {},
   "outputs": [
    {
     "data": {
      "text/plain": [
       "(Timestamp('2013-01-01 00:00:00'), Timestamp('2014-12-31 22:00:00'))"
      ]
     },
     "execution_count": 11,
     "metadata": {},
     "output_type": "execute_result"
    }
   ],
   "source": [
    "df_train_srtd[\"datetime\"].min(), df_train_srtd[\"datetime\"].max()"
   ]
  },
  {
   "cell_type": "code",
   "execution_count": 12,
   "id": "2dbad2b3-d17b-46e2-a3f4-958742d08041",
   "metadata": {},
   "outputs": [
    {
     "data": {
      "text/plain": [
       "(Timestamp('2013-01-01 02:00:00'), Timestamp('2014-12-31 23:00:00'))"
      ]
     },
     "execution_count": 12,
     "metadata": {},
     "output_type": "execute_result"
    }
   ],
   "source": [
    "df_test_srtd[\"datetime\"].min(), df_test_srtd[\"datetime\"].max()"
   ]
  },
  {
   "cell_type": "markdown",
   "id": "7f659bb8-13e0-47de-a5ff-6cad2c374d9e",
   "metadata": {},
   "source": [
    "## Observation\n",
    "\n",
    "* The training data is available from Jan 1, 2013 - Dec 31, 2014 and it is at hourly granularity\n",
    "* The missing intermediate timestamps belongs to test dataset\n",
    "\n",
    "## Problem statement\n",
    "\n",
    "We need to predict the number of bikes rented in the timestamps available in the test data"
   ]
  },
  {
   "cell_type": "markdown",
   "id": "f2804c86-e980-4368-89a9-7811510ee22d",
   "metadata": {},
   "source": [
    "# 3. Descriptive analysis"
   ]
  },
  {
   "cell_type": "markdown",
   "id": "f99368fc-b415-4340-93ff-bf16034ab321",
   "metadata": {},
   "source": [
    "## 3.1 Dataset shape"
   ]
  },
  {
   "cell_type": "code",
   "execution_count": 13,
   "id": "0e5d57a6-ecd5-4dbc-8fea-485bc2171cc2",
   "metadata": {},
   "outputs": [
    {
     "name": "stdout",
     "output_type": "stream",
     "text": [
      "There are 12165 rows in train data\n",
      "There are 5214 rows in test data\n"
     ]
    }
   ],
   "source": [
    "print(f\"There are {df_train_srtd.shape[0]} rows in train data\")\n",
    "print(f\"There are {df_test_srtd.shape[0]} rows in test data\")"
   ]
  },
  {
   "cell_type": "markdown",
   "id": "3a40afd5-8750-4b85-87a8-5f9df49a5b96",
   "metadata": {},
   "source": [
    "## 3.2 Validating dtypes"
   ]
  },
  {
   "cell_type": "code",
   "execution_count": 14,
   "id": "9e5ceb7c-1a81-4077-8069-20e664e74a9b",
   "metadata": {},
   "outputs": [
    {
     "data": {
      "text/plain": [
       "Date                              datetime64[ns]\n",
       "datetime                          datetime64[ns]\n",
       "Weather                                   object\n",
       "Holiday                                    int64\n",
       "Normalized_Temperature                   float64\n",
       "Normalized_Feeling_Temperature           float64\n",
       "Normalized_Humidity                      float64\n",
       "Windspeed                                float64\n",
       "Count_of_Casual_Users                      int64\n",
       "Count_of_Registered_Users                  int64\n",
       "Count_of_Rented_Bikes                      int64\n",
       "dtype: object"
      ]
     },
     "execution_count": 14,
     "metadata": {},
     "output_type": "execute_result"
    }
   ],
   "source": [
    "df_train_srtd.dtypes"
   ]
  },
  {
   "cell_type": "code",
   "execution_count": 15,
   "id": "cd4292e8-a826-4861-8ad8-8f8909d9d9cf",
   "metadata": {},
   "outputs": [
    {
     "data": {
      "text/plain": [
       "Date                              datetime64[ns]\n",
       "datetime                          datetime64[ns]\n",
       "Weather                                   object\n",
       "Holiday                                    int64\n",
       "Normalized_Temperature                   float64\n",
       "Normalized_Feeling_Temperature           float64\n",
       "Normalized_Humidity                      float64\n",
       "Windspeed                                float64\n",
       "dtype: object"
      ]
     },
     "execution_count": 15,
     "metadata": {},
     "output_type": "execute_result"
    }
   ],
   "source": [
    "df_test_srtd.dtypes"
   ]
  },
  {
   "cell_type": "markdown",
   "id": "ccd3e694-0710-40a8-bcd3-a284a6e9d049",
   "metadata": {},
   "source": [
    "## 3.3 Checking for missing values"
   ]
  },
  {
   "cell_type": "code",
   "execution_count": 16,
   "id": "20a19d85-143a-43c8-ac33-6114f3a7f4fe",
   "metadata": {},
   "outputs": [
    {
     "data": {
      "text/plain": [
       "Date                              0\n",
       "datetime                          0\n",
       "Weather                           0\n",
       "Holiday                           0\n",
       "Normalized_Temperature            0\n",
       "Normalized_Feeling_Temperature    0\n",
       "Normalized_Humidity               0\n",
       "Windspeed                         0\n",
       "Count_of_Casual_Users             0\n",
       "Count_of_Registered_Users         0\n",
       "Count_of_Rented_Bikes             0\n",
       "dtype: int64"
      ]
     },
     "execution_count": 16,
     "metadata": {},
     "output_type": "execute_result"
    }
   ],
   "source": [
    "df_train_srtd.isna().sum()"
   ]
  },
  {
   "cell_type": "code",
   "execution_count": 17,
   "id": "a55a3304-37c3-4862-8879-4f31a175b763",
   "metadata": {},
   "outputs": [
    {
     "data": {
      "text/plain": [
       "Date                              0\n",
       "datetime                          0\n",
       "Weather                           0\n",
       "Holiday                           0\n",
       "Normalized_Temperature            0\n",
       "Normalized_Feeling_Temperature    0\n",
       "Normalized_Humidity               0\n",
       "Windspeed                         0\n",
       "dtype: int64"
      ]
     },
     "execution_count": 17,
     "metadata": {},
     "output_type": "execute_result"
    }
   ],
   "source": [
    "df_test_srtd.isna().sum()"
   ]
  },
  {
   "cell_type": "markdown",
   "id": "534272e7-eb46-40bb-a351-1ff1494ed7bc",
   "metadata": {},
   "source": [
    "## 3.4 Distribution of values"
   ]
  },
  {
   "cell_type": "code",
   "execution_count": 18,
   "id": "9e3ce657-93e9-460b-93ad-5884efb09680",
   "metadata": {},
   "outputs": [
    {
     "data": {
      "text/plain": [
       "Weather\n",
       "Clear, Few clouds, Partly cloudy                                                           8032\n",
       "Mist + Cloudy, Mist + Broken clouds, Mist + Few clouds, Mist                               3140\n",
       "Light Snow, Light Rain + Thunderstorm + Scattered clouds, Light Rain + Scattered clouds     990\n",
       "Heavy Rain + Ice Pallets + Thunderstorm + Mist, Snow + Fog                                    3\n",
       "Name: count, dtype: int64"
      ]
     },
     "execution_count": 18,
     "metadata": {},
     "output_type": "execute_result"
    }
   ],
   "source": [
    "# Count of different weather conditions\n",
    "df_train_srtd[\"Weather\"].value_counts()"
   ]
  },
  {
   "cell_type": "code",
   "execution_count": 19,
   "id": "067db1e5-cc16-4268-893b-c3ba23e5a7c2",
   "metadata": {},
   "outputs": [
    {
     "data": {
      "text/plain": [
       "<DatetimeArray>\n",
       "['2013-01-17 00:00:00', '2013-02-21 00:00:00', '2013-04-15 00:00:00',\n",
       " '2013-05-30 00:00:00', '2013-07-04 00:00:00', '2013-09-05 00:00:00',\n",
       " '2013-10-10 00:00:00', '2013-11-11 00:00:00', '2013-11-24 00:00:00',\n",
       " '2013-12-26 00:00:00', '2014-01-02 00:00:00', '2014-01-16 00:00:00',\n",
       " '2014-02-20 00:00:00', '2014-04-16 00:00:00', '2014-05-28 00:00:00',\n",
       " '2014-07-04 00:00:00', '2014-09-03 00:00:00', '2014-10-08 00:00:00',\n",
       " '2014-11-12 00:00:00', '2014-11-22 00:00:00', '2014-12-25 00:00:00']\n",
       "Length: 21, dtype: datetime64[ns]"
      ]
     },
     "execution_count": 19,
     "metadata": {},
     "output_type": "execute_result"
    }
   ],
   "source": [
    "# Dates representing holiday\n",
    "df_train_srtd.loc[df_train_srtd[\"Holiday\"]==1, \"Date\"].unique()"
   ]
  },
  {
   "cell_type": "markdown",
   "id": "408bac2f-e9bf-4463-ac7b-d10a186a2fe3",
   "metadata": {},
   "source": [
    "## 3.4 Summarizing the train dataset"
   ]
  },
  {
   "cell_type": "code",
   "execution_count": 20,
   "id": "74d11e15-5971-4cf8-88c7-ea20220d5de8",
   "metadata": {},
   "outputs": [
    {
     "data": {
      "text/html": [
       "<div>\n",
       "<style scoped>\n",
       "    .dataframe tbody tr th:only-of-type {\n",
       "        vertical-align: middle;\n",
       "    }\n",
       "\n",
       "    .dataframe tbody tr th {\n",
       "        vertical-align: top;\n",
       "    }\n",
       "\n",
       "    .dataframe thead th {\n",
       "        text-align: right;\n",
       "    }\n",
       "</style>\n",
       "<table border=\"1\" class=\"dataframe\">\n",
       "  <thead>\n",
       "    <tr style=\"text-align: right;\">\n",
       "      <th></th>\n",
       "      <th>Date</th>\n",
       "      <th>datetime</th>\n",
       "      <th>Holiday</th>\n",
       "      <th>Normalized_Temperature</th>\n",
       "      <th>Normalized_Feeling_Temperature</th>\n",
       "      <th>Normalized_Humidity</th>\n",
       "      <th>Windspeed</th>\n",
       "      <th>Count_of_Casual_Users</th>\n",
       "      <th>Count_of_Registered_Users</th>\n",
       "      <th>Count_of_Rented_Bikes</th>\n",
       "    </tr>\n",
       "  </thead>\n",
       "  <tbody>\n",
       "    <tr>\n",
       "      <th>count</th>\n",
       "      <td>12165</td>\n",
       "      <td>12165</td>\n",
       "      <td>12165.000000</td>\n",
       "      <td>12165.000000</td>\n",
       "      <td>12165.000000</td>\n",
       "      <td>12165.000000</td>\n",
       "      <td>12165.000000</td>\n",
       "      <td>12165.000000</td>\n",
       "      <td>12165.000000</td>\n",
       "      <td>12165.000000</td>\n",
       "    </tr>\n",
       "    <tr>\n",
       "      <th>mean</th>\n",
       "      <td>2014-01-02 01:48:54.155363840</td>\n",
       "      <td>2014-01-02 13:19:05.252774400</td>\n",
       "      <td>0.028442</td>\n",
       "      <td>0.502845</td>\n",
       "      <td>0.483966</td>\n",
       "      <td>0.632797</td>\n",
       "      <td>0.195148</td>\n",
       "      <td>35.304644</td>\n",
       "      <td>154.582244</td>\n",
       "      <td>189.886889</td>\n",
       "    </tr>\n",
       "    <tr>\n",
       "      <th>min</th>\n",
       "      <td>2013-01-01 00:00:00</td>\n",
       "      <td>2013-01-01 00:00:00</td>\n",
       "      <td>0.000000</td>\n",
       "      <td>0.023333</td>\n",
       "      <td>0.003333</td>\n",
       "      <td>0.001124</td>\n",
       "      <td>0.000000</td>\n",
       "      <td>0.000000</td>\n",
       "      <td>0.000000</td>\n",
       "      <td>1.000000</td>\n",
       "    </tr>\n",
       "    <tr>\n",
       "      <th>25%</th>\n",
       "      <td>2013-07-05 00:00:00</td>\n",
       "      <td>2013-07-05 10:00:00</td>\n",
       "      <td>0.000000</td>\n",
       "      <td>0.344583</td>\n",
       "      <td>0.338300</td>\n",
       "      <td>0.481236</td>\n",
       "      <td>0.110118</td>\n",
       "      <td>4.000000</td>\n",
       "      <td>35.000000</td>\n",
       "      <td>41.000000</td>\n",
       "    </tr>\n",
       "    <tr>\n",
       "      <th>50%</th>\n",
       "      <td>2014-01-02 00:00:00</td>\n",
       "      <td>2014-01-02 16:00:00</td>\n",
       "      <td>0.000000</td>\n",
       "      <td>0.508333</td>\n",
       "      <td>0.494800</td>\n",
       "      <td>0.634494</td>\n",
       "      <td>0.194000</td>\n",
       "      <td>17.000000</td>\n",
       "      <td>116.000000</td>\n",
       "      <td>144.000000</td>\n",
       "    </tr>\n",
       "    <tr>\n",
       "      <th>75%</th>\n",
       "      <td>2014-07-01 00:00:00</td>\n",
       "      <td>2014-07-01 05:00:00</td>\n",
       "      <td>0.000000</td>\n",
       "      <td>0.660833</td>\n",
       "      <td>0.627311</td>\n",
       "      <td>0.788989</td>\n",
       "      <td>0.263812</td>\n",
       "      <td>48.000000</td>\n",
       "      <td>221.000000</td>\n",
       "      <td>282.000000</td>\n",
       "    </tr>\n",
       "    <tr>\n",
       "      <th>max</th>\n",
       "      <td>2014-12-31 00:00:00</td>\n",
       "      <td>2014-12-31 22:00:00</td>\n",
       "      <td>1.000000</td>\n",
       "      <td>1.002083</td>\n",
       "      <td>1.003333</td>\n",
       "      <td>1.011236</td>\n",
       "      <td>0.854071</td>\n",
       "      <td>367.000000</td>\n",
       "      <td>886.000000</td>\n",
       "      <td>977.000000</td>\n",
       "    </tr>\n",
       "    <tr>\n",
       "      <th>std</th>\n",
       "      <td>NaN</td>\n",
       "      <td>NaN</td>\n",
       "      <td>0.166239</td>\n",
       "      <td>0.192616</td>\n",
       "      <td>0.172008</td>\n",
       "      <td>0.192051</td>\n",
       "      <td>0.122673</td>\n",
       "      <td>48.787590</td>\n",
       "      <td>151.463431</td>\n",
       "      <td>180.770096</td>\n",
       "    </tr>\n",
       "  </tbody>\n",
       "</table>\n",
       "</div>"
      ],
      "text/plain": [
       "                                Date                       datetime  \\\n",
       "count                          12165                          12165   \n",
       "mean   2014-01-02 01:48:54.155363840  2014-01-02 13:19:05.252774400   \n",
       "min              2013-01-01 00:00:00            2013-01-01 00:00:00   \n",
       "25%              2013-07-05 00:00:00            2013-07-05 10:00:00   \n",
       "50%              2014-01-02 00:00:00            2014-01-02 16:00:00   \n",
       "75%              2014-07-01 00:00:00            2014-07-01 05:00:00   \n",
       "max              2014-12-31 00:00:00            2014-12-31 22:00:00   \n",
       "std                              NaN                            NaN   \n",
       "\n",
       "            Holiday  Normalized_Temperature  Normalized_Feeling_Temperature  \\\n",
       "count  12165.000000            12165.000000                    12165.000000   \n",
       "mean       0.028442                0.502845                        0.483966   \n",
       "min        0.000000                0.023333                        0.003333   \n",
       "25%        0.000000                0.344583                        0.338300   \n",
       "50%        0.000000                0.508333                        0.494800   \n",
       "75%        0.000000                0.660833                        0.627311   \n",
       "max        1.000000                1.002083                        1.003333   \n",
       "std        0.166239                0.192616                        0.172008   \n",
       "\n",
       "       Normalized_Humidity     Windspeed  Count_of_Casual_Users  \\\n",
       "count         12165.000000  12165.000000           12165.000000   \n",
       "mean              0.632797      0.195148              35.304644   \n",
       "min               0.001124      0.000000               0.000000   \n",
       "25%               0.481236      0.110118               4.000000   \n",
       "50%               0.634494      0.194000              17.000000   \n",
       "75%               0.788989      0.263812              48.000000   \n",
       "max               1.011236      0.854071             367.000000   \n",
       "std               0.192051      0.122673              48.787590   \n",
       "\n",
       "       Count_of_Registered_Users  Count_of_Rented_Bikes  \n",
       "count               12165.000000           12165.000000  \n",
       "mean                  154.582244             189.886889  \n",
       "min                     0.000000               1.000000  \n",
       "25%                    35.000000              41.000000  \n",
       "50%                   116.000000             144.000000  \n",
       "75%                   221.000000             282.000000  \n",
       "max                   886.000000             977.000000  \n",
       "std                   151.463431             180.770096  "
      ]
     },
     "execution_count": 20,
     "metadata": {},
     "output_type": "execute_result"
    }
   ],
   "source": [
    "df_train_srtd.describe()"
   ]
  },
  {
   "cell_type": "markdown",
   "id": "3868c316-7e06-4b10-9a7e-4768a82d427e",
   "metadata": {},
   "source": [
    "## 3.5 Correlation between features"
   ]
  },
  {
   "cell_type": "code",
   "execution_count": 21,
   "id": "45a3a0bd-c0c2-4582-a6ff-fc86fffafff5",
   "metadata": {},
   "outputs": [],
   "source": [
    "def get_nmrcl_cols(\n",
    "    df: pd.DataFrame\n",
    "):\n",
    "    nmrcl_cols = [col for col in df.columns if df[col].dtype not in [\"object\", \"datetime64[ns]\"]]\n",
    "\n",
    "    return nmrcl_cols"
   ]
  },
  {
   "cell_type": "code",
   "execution_count": 22,
   "id": "fe8e4b1c-fa09-4c4b-acdc-bd91f9fb54d9",
   "metadata": {},
   "outputs": [
    {
     "data": {
      "image/png": "[encoded data removed]",
      "text/plain": [
       "<Figure size 1200x800 with 2 Axes>"
      ]
     },
     "metadata": {},
     "output_type": "display_data"
    }
   ],
   "source": [
    "numerical_cols = get_nmrcl_cols(df_train_srtd)\n",
    "\n",
    "plt.figure(figsize=(12, 8))\n",
    "sns.heatmap(df_train_srtd[numerical_cols].corr(), annot=True)\n",
    "plt.show()"
   ]
  }
 ],
 "metadata": {
  "kernelspec": {
   "display_name": "Python 3 (ipykernel)",
   "language": "python",
   "name": "python3"
  },
  "language_info": {
   "codemirror_mode": {
    "name": "ipython",
    "version": 3
   },
   "file_extension": ".py",
   "mimetype": "text/x-python",
   "name": "python",
   "nbconvert_exporter": "python",
   "pygments_lexer": "ipython3",
   "version": "3.9.6"
  }
 },
 "nbformat": 4,
 "nbformat_minor": 5
}
